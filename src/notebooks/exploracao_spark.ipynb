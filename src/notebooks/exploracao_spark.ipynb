{
 "cells": [
  {
   "cell_type": "code",
   "execution_count": 1,
   "metadata": {},
   "outputs": [
    {
     "name": "stdout",
     "output_type": "stream",
     "text": [
      "Collecting pyspark==3.3.1\n",
      "  Downloading pyspark-3.3.1.tar.gz (281.4 MB)\n",
      "\u001b[K     |████████████████████████████████| 281.4 MB 17 kB/s  eta 0:00:011  |                                | 573 kB 3.2 MB/s eta 0:01:27     |                                | 727 kB 3.2 MB/s eta 0:01:27     |▏                               | 1.7 MB 3.2 MB/s eta 0:01:27     |▍                               | 3.4 MB 3.2 MB/s eta 0:01:26     |▌                               | 4.7 MB 3.8 MB/s eta 0:01:13     |▋                               | 5.8 MB 3.8 MB/s eta 0:01:13     |▊                               | 5.9 MB 3.8 MB/s eta 0:01:13     |▉                               | 7.1 MB 3.8 MB/s eta 0:01:13     |▉                               | 7.5 MB 3.8 MB/s eta 0:01:12     |▉                               | 7.7 MB 2.3 MB/s eta 0:01:59     |▉                               | 7.8 MB 2.3 MB/s eta 0:01:59     |█▎                              | 11.7 MB 2.3 MB/s eta 0:01:57     |█▍                              | 12.2 MB 2.3 MB/s eta 0:01:57     |█▍                              | 12.5 MB 6.8 MB/s eta 0:00:40     |█▌                              | 13.2 MB 6.8 MB/s eta 0:00:40     |█▌                              | 13.7 MB 6.8 MB/s eta 0:00:40     |█▋                              | 13.8 MB 6.8 MB/s eta 0:00:40     |█▋                              | 14.5 MB 6.8 MB/s eta 0:00:40     |█▉                              | 16.3 MB 6.8 MB/s eta 0:00:39     |██                              | 17.1 MB 6.8 MB/s eta 0:00:39     |██▌                             | 22.1 MB 33.0 MB/s eta 0:00:08     |██▌                             | 22.5 MB 33.0 MB/s eta 0:00:08     |██▊                             | 24.0 MB 33.0 MB/s eta 0:00:08     |██▊                             | 24.1 MB 33.0 MB/s eta 0:00:08     |██▊                             | 24.4 MB 33.0 MB/s eta 0:00:08     |██▉                             | 24.6 MB 33.0 MB/s eta 0:00:08     |██▉                             | 25.0 MB 33.0 MB/s eta 0:00:08     |██▉                             | 25.4 MB 4.5 MB/s eta 0:00:57     |███                             | 25.5 MB 4.5 MB/s eta 0:00:57     |███                             | 25.8 MB 4.5 MB/s eta 0:00:57     |███                             | 27.0 MB 4.5 MB/s eta 0:00:57     |███                             | 27.3 MB 4.5 MB/s eta 0:00:57     |███▏                            | 28.0 MB 4.5 MB/s eta 0:00:56     |███▎                            | 29.0 MB 4.5 MB/s eta 0:00:56     |███▍                            | 29.3 MB 4.5 MB/s eta 0:00:56     |███▍                            | 29.6 MB 4.5 MB/s eta 0:00:56     |███▍                            | 29.9 MB 4.5 MB/s eta 0:00:56     |███▌                            | 31.3 MB 1.7 MB/s eta 0:02:28     |███▋                            | 31.9 MB 1.7 MB/s eta 0:02:27     |███▋                            | 32.2 MB 1.7 MB/s eta 0:02:27     |███▊                            | 33.0 MB 1.7 MB/s eta 0:02:27     |████                            | 35.6 MB 22.8 MB/s eta 0:00:11     |████▎                           | 38.0 MB 22.8 MB/s eta 0:00:11     |████▍                           | 38.3 MB 22.8 MB/s eta 0:00:11     |█████                           | 44.0 MB 5.8 MB/s eta 0:00:41     |█████                           | 44.1 MB 5.8 MB/s eta 0:00:41     |█████                           | 44.4 MB 5.8 MB/s eta 0:00:41     |█████▏                          | 45.4 MB 5.8 MB/s eta 0:00:41     |█████▍                          | 47.0 MB 3.7 MB/s eta 0:01:04     |█████▍                          | 47.3 MB 3.7 MB/s eta 0:01:04     |█████▌                          | 48.5 MB 3.7 MB/s eta 0:01:04     |█████▌                          | 48.8 MB 3.7 MB/s eta 0:01:04     |█████▊                          | 50.3 MB 3.7 MB/s eta 0:01:03     |██████                          | 52.8 MB 2.8 MB/s eta 0:01:22     |██████                          | 53.1 MB 2.8 MB/s eta 0:01:21     |██████                          | 53.4 MB 2.8 MB/s eta 0:01:21     |██████▏                         | 54.2 MB 2.8 MB/s eta 0:01:21     |██████▏                         | 54.5 MB 2.8 MB/s eta 0:01:21     |██████▎                         | 54.8 MB 2.8 MB/s eta 0:01:21     |██████▎                         | 55.2 MB 2.8 MB/s eta 0:01:21     |██████▍                         | 55.8 MB 2.8 MB/s eta 0:01:20     |██████▍                         | 56.0 MB 2.8 MB/s eta 0:01:20     |██████▍                         | 56.2 MB 3.4 MB/s eta 0:01:08     |██████▍                         | 56.4 MB 3.4 MB/s eta 0:01:08     |██████▍                         | 56.6 MB 3.4 MB/s eta 0:01:08     |██████▋                         | 58.1 MB 3.4 MB/s eta 0:01:07     |██████▋                         | 58.3 MB 3.4 MB/s eta 0:01:07     |███████                         | 61.3 MB 1.9 MB/s eta 0:01:54     |███████                         | 61.5 MB 1.9 MB/s eta 0:01:54     |███████▏                        | 63.3 MB 1.9 MB/s eta 0:01:53     |███████▎                        | 64.1 MB 1.9 MB/s eta 0:01:52     |███████▍                        | 64.9 MB 2.7 MB/s eta 0:01:20     |███████▊                        | 67.6 MB 2.7 MB/s eta 0:01:19     |████████                        | 69.9 MB 1.6 MB/s eta 0:02:10     |████████                        | 70.6 MB 1.6 MB/s eta 0:02:10     |████████                        | 71.0 MB 1.6 MB/s eta 0:02:10     |████████▏                       | 72.1 MB 1.6 MB/s eta 0:02:09     |████████▌                       | 75.0 MB 4.6 MB/s eta 0:00:46     |████████▋                       | 75.7 MB 4.6 MB/s eta 0:00:45     |████████▋                       | 76.0 MB 4.6 MB/s eta 0:00:45     |████████▊                       | 76.6 MB 4.6 MB/s eta 0:00:45     |████████▉                       | 77.6 MB 4.6 MB/s eta 0:00:45     |████████▉                       | 77.9 MB 4.6 MB/s eta 0:00:45     |█████████                       | 79.9 MB 2.6 MB/s eta 0:01:19     |█████████▎                      | 81.6 MB 2.6 MB/s eta 0:01:18     |█████████▎                      | 82.0 MB 2.6 MB/s eta 0:01:18     |█████████▍                      | 82.8 MB 2.6 MB/s eta 0:01:18     |█████████▊                      | 85.4 MB 3.2 MB/s eta 0:01:03     |█████████▉                      | 86.9 MB 3.2 MB/s eta 0:01:02     |██████████▌                     | 92.3 MB 4.2 MB/s eta 0:00:45     |██████████▊                     | 94.5 MB 7.8 MB/s eta 0:00:25��████▉                     | 95.0 MB 7.8 MB/s eta 0:00:24��████▉                     | 95.6 MB 7.8 MB/s eta 0:00:24     |███████████                     | 96.5 MB 7.8 MB/s eta 0:00:24     |███████████                     | 97.1 MB 7.8 MB/s eta 0:00:24     |███████████                     | 97.6 MB 7.8 MB/s eta 0:00:24     |███████████▎                    | 99.2 MB 3.7 MB/s eta 0:00:50     |███████████▎                    | 99.6 MB 3.7 MB/s eta 0:00:50     |███████████▍                    | 100.0 MB 3.7 MB/s eta 0:00:50     |███████████▍                    | 100.4 MB 3.7 MB/s eta 0:00:50     |███████████▍                    | 100.6 MB 3.7 MB/s eta 0:00:50     |███████████▋                    | 102.0 MB 2.9 MB/s eta 0:01:02     |███████████▋                    | 102.3 MB 2.9 MB/s eta 0:01:02     |███████████▊                    | 103.1 MB 2.9 MB/s eta 0:01:02     |███████████▉                    | 104.2 MB 2.9 MB/s eta 0:01:02     |████████████                    | 104.8 MB 1.1 MB/s eta 0:02:43     |████████████                    | 104.8 MB 1.1 MB/s eta 0:02:43     |████████████                    | 105.2 MB 1.1 MB/s eta 0:02:42     |████████████                    | 105.5 MB 1.1 MB/s eta 0:02:42     |████████████                    | 105.9 MB 1.1 MB/s eta 0:02:42     |████████████                    | 106.2 MB 1.1 MB/s eta 0:02:41     |████████████▏                   | 106.9 MB 1.1 MB/s eta 0:02:41     |████████████▏                   | 107.0 MB 2.4 MB/s eta 0:01:13     |████████████▏                   | 107.4 MB 2.4 MB/s eta 0:01:12     |████████████▎                   | 107.9 MB 2.4 MB/s eta 0:01:12     |████████████▎                   | 108.2 MB 2.4 MB/s eta 0:01:12     |████████████▎                   | 108.4 MB 2.4 MB/s eta 0:01:12     |████████████▍                   | 108.8 MB 2.4 MB/s eta 0:01:12     |████████████▍                   | 108.9 MB 2.4 MB/s eta 0:01:12     |████████████▍                   | 109.2 MB 2.4 MB/s eta 0:01:12     |████████████▍                   | 109.3 MB 2.4 MB/s eta 0:01:12     |████████████▌                   | 109.9 MB 2.4 MB/s eta 0:01:11     |████████████▌                   | 110.0 MB 2.4 MB/s eta 0:01:11     |████████████▋                   | 110.8 MB 4.6 MB/s eta 0:00:38     |████████████▊                   | 111.6 MB 4.6 MB/s eta 0:00:38     |████████████▊                   | 111.7 MB 4.6 MB/s eta 0:00:38     |████████████▊                   | 111.9 MB 4.6 MB/s eta 0:00:38     |████████████▊                   | 112.2 MB 4.6 MB/s eta 0:00:37     |████████████▊                   | 112.3 MB 4.6 MB/s eta 0:00:37     |█████████████                   | 114.0 MB 2.9 MB/s eta 0:00:58     |█████████████▏                  | 115.8 MB 2.9 MB/s eta 0:00:58     |█████████████▏                  | 116.0 MB 2.9 MB/s eta 0:00:58     |█████████████▏                  | 116.2 MB 1.5 MB/s eta 0:01:54     |█████████████▎                  | 116.6 MB 1.5 MB/s eta 0:01:54     |█████████████▍                  | 117.3 MB 1.5 MB/s eta 0:01:53     |█████████████▍                  | 117.6 MB 1.5 MB/s eta 0:01:53     |█████████████▍                  | 117.8 MB 1.5 MB/s eta 0:01:53     |█████████████▍                  | 118.0 MB 1.5 MB/s eta 0:01:53     |█████████████▍                  | 118.1 MB 1.5 MB/s eta 0:01:53     |█████████████▌                  | 118.3 MB 1.5 MB/s eta 0:01:53     |█████████████▌                  | 118.6 MB 2.6 MB/s eta 0:01:04     |█████████████▌                  | 118.7 MB 2.6 MB/s eta 0:01:04     |█████████████▌                  | 118.9 MB 2.6 MB/s eta 0:01:04     |█████████████▌                  | 119.0 MB 2.6 MB/s eta 0:01:04     |█████████████▋                  | 119.3 MB 2.6 MB/s eta 0:01:04     |█████████████▋                  | 119.6 MB 2.6 MB/s eta 0:01:04     |██████████████                  | 123.7 MB 2.5 MB/s eta 0:01:05     |██████████████▍                 | 126.8 MB 3.6 MB/s eta 0:00:43     |██████████████▌                 | 127.2 MB 5.0 MB/s eta 0:00:31     |██████████████▋                 | 128.9 MB 5.0 MB/s eta 0:00:31     |██████████████▊                 | 129.6 MB 5.0 MB/s eta 0:00:31     |███████████████▏                | 132.9 MB 2.5 MB/s eta 0:01:01     |███████████████▏                | 133.2 MB 2.5 MB/s eta 0:01:01     |███████████████▏                | 133.5 MB 2.5 MB/s eta 0:01:01     |███████████████▏                | 133.7 MB 2.5 MB/s eta 0:01:01     |███████████████▎                | 134.3 MB 2.6 MB/s eta 0:00:58     |███████████████▎                | 134.5 MB 2.6 MB/s eta 0:00:58     |███████████████▎                | 134.8 MB 2.6 MB/s eta 0:00:58     |███████████████▍                | 134.8 MB 2.6 MB/s eta 0:00:58     |███████████████▍                | 135.0 MB 2.6 MB/s eta 0:00:58     |███████████████▋                | 137.5 MB 2.6 MB/s eta 0:00:57    |████████████████                | 140.0 MB 7.6 MB/s eta 0:00:19     |████████████████                | 140.6 MB 7.6 MB/s eta 0:00:19    |████████████████                | 141.1 MB 7.6 MB/s eta 0:00:19     |████████████████▉               | 148.2 MB 3.6 MB/s eta 0:00:37  | 149.1 MB 3.6 MB/s eta 0:00:37     |█████████████████               | 150.1 MB 1.9 MB/s eta 0:01:11     |█████████████████▏              | 150.6 MB 1.9 MB/s eta 0:01:10��███████▎              | 152.0 MB 1.9 MB/s eta 0:01:10     |█████████████████▊              | 156.2 MB 4.1 MB/s eta 0:00:31     |██████████████████              | 158.3 MB 4.1 MB/s eta 0:00:30     |██████████████████▋             | 163.2 MB 3.1 MB/s eta 0:00:39     |██████████████████▋             | 163.7 MB 3.1 MB/s eta 0:00:39     |██████████████████▋             | 163.8 MB 3.1 MB/s eta 0:00:39     |██████████████████▉             | 166.0 MB 3.1 MB/s eta 0:00:38[K     |███████████████████             | 167.0 MB 3.1 MB/s eta 0:00:38     |███████████████████▏            | 169.0 MB 3.5 MB/s eta 0:00:33   | 170.9 MB 3.5 MB/s eta 0:00:32     |████████████████████▍           | 178.8 MB 13.2 MB/s eta 0:00:08     |████████████████████▍           | 179.3 MB 13.2 MB/s eta 0:00:08     |████████████████████▊           | 182.0 MB 4.7 MB/s eta 0:00:22     |█████████████████████           | 184.4 MB 4.7 MB/s eta 0:00:21     |█████████████████████▎          | 186.8 MB 2.3 MB/s eta 0:00:41     |█████████████████████▍          | 188.0 MB 2.3 MB/s eta 0:00:41     |█████████████████████▌          | 189.2 MB 2.3 MB/s eta 0:00:40��████████████████████▊          | 191.3 MB 2.3 MB/s eta 0:00:39     |█████████████████████▉          | 191.7 MB 2.3 MB/s eta 0:00:39     |█████████████████████▉          | 192.0 MB 2.3 MB/s eta 0:00:39MB 1.7 MB/s eta 0:00:50     |██████████████████████▎         | 195.9 MB 1.7 MB/s eta 0:00:49     |██████████████████████▌         | 198.2 MB 1.7 MB/s eta 0:00:48     |██████████████████████▊         | 199.6 MB 4.9 MB/s eta 0:00:17     |███████████████████████▏        | 203.6 MB 4.9 MB/s eta 0:00:16     |███████████████████████▎        | 204.7 MB 8.7 MB/s eta 0:00:09█████▊        | 208.7 MB 8.7 MB/s eta 0:00:09     |████████████████████████▎       | 213.1 MB 3.6 MB/s eta 0:00:19     |████████████████████████▍       | 214.5 MB 3.6 MB/s eta 0:00:19��█████████████████       | 220.0 MB 3.6 MB/s eta 0:00:17MB/s eta 0:00:02MB/s eta 0:00:0232.9 MB 5.4 MB/s eta 0:00:09     |██████████████████████████▊     | 234.7 MB 5.4 MB/s eta 0:00:09 | 236.5 MB 5.4 MB/s eta 0:00:09��█████████████▋    | 242.4 MB 12.7 MB/s eta 0:00:04242.8 MB 12.7 MB/s eta 0:00:04     |███████████████████████████▉    | 244.5 MB 731 kB/s eta 0:00:51     |███████████████████████████▉    | 244.8 MB 731 kB/s eta 0:00:50     |███████████████████████████▉    | 245.0 MB 731 kB/s eta 0:00:50     |███████████████████████████▉    | 245.0 MB 731 kB/s eta 0:00:50��████████████████████████▌   | 250.7 MB 12.9 MB/s eta 0:00:03��████████████████████████▋   | 251.1 MB 12.9 MB/s eta 0:00:03��████████████████████████▋   | 251.7 MB 12.9 MB/s eta 0:00:03     |█████████████████████████████▏  | 256.2 MB 12.9 MB/s eta 0:00:02     |█████████████████████████████▏  | 256.7 MB 12.9 MB/s eta 0:00:02     |█████████████████████████████▉  | 262.1 MB 30.6 MB/s eta 0:00:01ta 0:00:01ta 0:00:01     |██████████████████████████████▎ | 266.7 MB 30.6 MB/s eta 0:00:01     |███████████████████████████████▌| 276.7 MB 6.4 MB/s eta 0:00:01     |███████████████████████████████▋| 277.6 MB 6.4 MB/s eta 0:00:01\n",
      "\u001b[?25hCollecting py4j==0.10.9.5\n",
      "  Downloading py4j-0.10.9.5-py2.py3-none-any.whl (199 kB)\n",
      "\u001b[K     |████████████████████████████████| 199 kB 9.5 MB/s eta 0:00:01\n",
      "\u001b[?25hBuilding wheels for collected packages: pyspark\n",
      "  Building wheel for pyspark (setup.py) ... \u001b[?25lerror\n",
      "\u001b[31m  ERROR: Command errored out with exit status 1:\n",
      "   command: /home/anselmo/airflow_twitter/venv/bin/python3 -u -c 'import sys, setuptools, tokenize; sys.argv[0] = '\"'\"'/tmp/pip-install-5ht8rlhe/pyspark/setup.py'\"'\"'; __file__='\"'\"'/tmp/pip-install-5ht8rlhe/pyspark/setup.py'\"'\"';f=getattr(tokenize, '\"'\"'open'\"'\"', open)(__file__);code=f.read().replace('\"'\"'\\r\\n'\"'\"', '\"'\"'\\n'\"'\"');f.close();exec(compile(code, __file__, '\"'\"'exec'\"'\"'))' bdist_wheel -d /tmp/pip-wheel-36qj_b_t\n",
      "       cwd: /tmp/pip-install-5ht8rlhe/pyspark/\n",
      "  Complete output (6 lines):\n",
      "  usage: setup.py [global_opts] cmd1 [cmd1_opts] [cmd2 [cmd2_opts] ...]\n",
      "     or: setup.py --help [cmd1 cmd2 ...]\n",
      "     or: setup.py --help-commands\n",
      "     or: setup.py cmd --help\n",
      "  \n",
      "  error: invalid command 'bdist_wheel'\n",
      "  ----------------------------------------\u001b[0m\n",
      "\u001b[31m  ERROR: Failed building wheel for pyspark\u001b[0m\n",
      "\u001b[?25h  Running setup.py clean for pyspark\n",
      "Failed to build pyspark\n",
      "Installing collected packages: py4j, pyspark\n",
      "    Running setup.py install for pyspark ... \u001b[?25ldone\n",
      "\u001b[?25hSuccessfully installed py4j-0.10.9.5 pyspark-3.3.1\n"
     ]
    }
   ],
   "source": [
    "!pip install pyspark==3.3.1\n"
   ]
  },
  {
   "cell_type": "code",
   "execution_count": 1,
   "metadata": {},
   "outputs": [
    {
     "name": "stderr",
     "output_type": "stream",
     "text": [
      "your 131072x1 screen size is bogus. expect trouble\n"
     ]
    },
    {
     "name": "stdout",
     "output_type": "stream",
     "text": [
      "24/10/14 10:33:34 WARN Utils: Your hostname, AnselmoHome resolves to a loopback address: 127.0.1.1; using 172.17.64.178 instead (on interface eth0)\n",
      "24/10/14 10:33:34 WARN Utils: Set SPARK_LOCAL_IP if you need to bind to another address\n"
     ]
    },
    {
     "name": "stderr",
     "output_type": "stream",
     "text": [
      "Setting default log level to \"WARN\".\n",
      "To adjust logging level use sc.setLogLevel(newLevel). For SparkR, use setLogLevel(newLevel).\n"
     ]
    },
    {
     "name": "stdout",
     "output_type": "stream",
     "text": [
      "24/10/14 10:33:37 WARN NativeCodeLoader: Unable to load native-hadoop library for your platform... using builtin-java classes where applicable\n"
     ]
    }
   ],
   "source": [
    "from pyspark.sql import SparkSession\n",
    "\n",
    "\n",
    "spark = SparkSession\\\n",
    "    .builder \\\n",
    "    .appName(\"transformacao Twiiter\") \\\n",
    "    .getOrCreate()\n"
   ]
  },
  {
   "cell_type": "code",
   "execution_count": 2,
   "metadata": {},
   "outputs": [
    {
     "name": "stderr",
     "output_type": "stream",
     "text": [
      "                                                                                \r"
     ]
    }
   ],
   "source": [
    "df = spark.read.json(\"../../datalake/twitter_datascience/\")\n"
   ]
  },
  {
   "cell_type": "code",
   "execution_count": 3,
   "metadata": {},
   "outputs": [
    {
     "name": "stderr",
     "output_type": "stream",
     "text": [
      "                                                                                \r"
     ]
    },
    {
     "name": "stdout",
     "output_type": "stream",
     "text": [
      "+--------------------+--------------------+------------------+------------+\n",
      "|                data|            includes|              meta|extract_data|\n",
      "+--------------------+--------------------+------------------+------------+\n",
      "|[{78, 43, 2024-10...|{[{2024-10-10T13:...|{1234567890abcdef}|  2024-10-10|\n",
      "|[{92, 44, 2024-10...|{[{2024-10-10T17:...|              null|  2024-10-10|\n",
      "|[{43, 5, 2024-10-...|{[{2024-10-12T19:...|{1234567890abcdef}|  2024-10-12|\n",
      "|[{32, 13, 2024-10...|{[{2024-10-12T22:...|              null|  2024-10-12|\n",
      "|[{79, 69, 2024-10...|{[{2024-10-11T08:...|              null|  2024-10-11|\n",
      "|[{67, 45, 2024-10...|{[{2024-10-13T06:...|              null|  2024-10-13|\n",
      "+--------------------+--------------------+------------------+------------+\n",
      "\n"
     ]
    }
   ],
   "source": [
    "df.show()"
   ]
  },
  {
   "cell_type": "code",
   "execution_count": 4,
   "metadata": {},
   "outputs": [
    {
     "name": "stdout",
     "output_type": "stream",
     "text": [
      "root\n",
      " |-- data: array (nullable = true)\n",
      " |    |-- element: struct (containsNull = true)\n",
      " |    |    |-- author_id: string (nullable = true)\n",
      " |    |    |-- conversation_id: string (nullable = true)\n",
      " |    |    |-- created_at: string (nullable = true)\n",
      " |    |    |-- edit_history_tweet_ids: array (nullable = true)\n",
      " |    |    |    |-- element: long (containsNull = true)\n",
      " |    |    |-- id: string (nullable = true)\n",
      " |    |    |-- in_reply_to_user_id: string (nullable = true)\n",
      " |    |    |-- lang: string (nullable = true)\n",
      " |    |    |-- public_metrics: struct (nullable = true)\n",
      " |    |    |    |-- like_count: long (nullable = true)\n",
      " |    |    |    |-- quote_count: long (nullable = true)\n",
      " |    |    |    |-- reply_count: long (nullable = true)\n",
      " |    |    |    |-- retweet_count: long (nullable = true)\n",
      " |    |    |-- text: string (nullable = true)\n",
      " |-- includes: struct (nullable = true)\n",
      " |    |-- users: array (nullable = true)\n",
      " |    |    |-- element: struct (containsNull = true)\n",
      " |    |    |    |-- created_at: string (nullable = true)\n",
      " |    |    |    |-- id: string (nullable = true)\n",
      " |    |    |    |-- name: string (nullable = true)\n",
      " |    |    |    |-- username: string (nullable = true)\n",
      " |-- meta: struct (nullable = true)\n",
      " |    |-- next_token: string (nullable = true)\n",
      " |-- extract_data: date (nullable = true)\n",
      "\n"
     ]
    }
   ],
   "source": [
    "df.printSchema()"
   ]
  },
  {
   "cell_type": "code",
   "execution_count": 5,
   "metadata": {},
   "outputs": [],
   "source": [
    "from pyspark.sql import functions as f"
   ]
  },
  {
   "cell_type": "code",
   "execution_count": 6,
   "metadata": {},
   "outputs": [
    {
     "name": "stdout",
     "output_type": "stream",
     "text": [
      "root\n",
      " |-- col: struct (nullable = true)\n",
      " |    |-- author_id: string (nullable = true)\n",
      " |    |-- conversation_id: string (nullable = true)\n",
      " |    |-- created_at: string (nullable = true)\n",
      " |    |-- edit_history_tweet_ids: array (nullable = true)\n",
      " |    |    |-- element: long (containsNull = true)\n",
      " |    |-- id: string (nullable = true)\n",
      " |    |-- in_reply_to_user_id: string (nullable = true)\n",
      " |    |-- lang: string (nullable = true)\n",
      " |    |-- public_metrics: struct (nullable = true)\n",
      " |    |    |-- like_count: long (nullable = true)\n",
      " |    |    |-- quote_count: long (nullable = true)\n",
      " |    |    |-- reply_count: long (nullable = true)\n",
      " |    |    |-- retweet_count: long (nullable = true)\n",
      " |    |-- text: string (nullable = true)\n",
      "\n"
     ]
    }
   ],
   "source": [
    "df.select(f.explode('data')).printSchema()"
   ]
  },
  {
   "cell_type": "code",
   "execution_count": 9,
   "metadata": {},
   "outputs": [
    {
     "name": "stdout",
     "output_type": "stream",
     "text": [
      "+----------------------------------------------------------------------------------------------------------------------------------------------------------------+\n",
      "|col                                                                                                                                                             |\n",
      "+----------------------------------------------------------------------------------------------------------------------------------------------------------------+\n",
      "|{78, 43, 2024-10-10T15:46:38.284539+0000, [35], 74, 22, en, {22, 40, 44, 53}, Outro tweet fictício relacionado a datascience}                                   |\n",
      "|{57, 37, 2024-10-10T12:27:29.276520+0000, [33], 80, 0, en, {82, 78, 49, 69}, Tweet fictício criado usando inteligência artificial para falar sobre datascience} |\n",
      "|{67, 72, 2024-10-10T04:14:29.654440+0000, [10], 76, 19, en, {82, 42, 57, 71}, Um terceiro tweet fictício sobre datascience}                                     |\n",
      "|{89, 98, 2024-10-10T12:16:58.124681+0000, [19], 5, 0, en, {71, 65, 20, 94}, Este é um tweet fictício sobre datascience}                                         |\n",
      "|{93, 27, 2024-10-10T10:27:43.573741+0000, [29], 32, 94, en, {18, 63, 10, 95}, Este é um tweet fictício sobre datascience}                                       |\n",
      "|{47, 67, 2024-10-10T00:39:54.171540+0000, [53], 1, 100, en, {12, 65, 12, 78}, Tweet fictício criado usando inteligência artificial para falar sobre datascience}|\n",
      "|{60, 77, 2024-10-10T10:19:14.132472+0000, [28], 17, 34, en, {84, 55, 35, 55}, Outro tweet fictício relacionado a datascience}                                   |\n",
      "|{37, 90, 2024-10-10T23:26:40.048215+0000, [84], 58, 52, en, {27, 31, 47, 1}, Tweet fictício gerado automaticamente sobre datascience}                           |\n",
      "|{34, 39, 2024-10-10T04:16:52.927359+0000, [41], 3, 67, en, {11, 87, 66, 61}, Tweet fictício criado usando inteligência artificial para falar sobre datascience} |\n",
      "|{19, 26, 2024-10-10T19:15:47.181860+0000, [30], 98, 27, en, {19, 62, 4, 77}, Um terceiro tweet fictício sobre datascience}                                      |\n",
      "|{92, 44, 2024-10-10T21:19:32.972273+0000, [94], 93, 23, en, {35, 46, 81, 55}, Um terceiro tweet fictício sobre datascience}                                     |\n",
      "|{44, 60, 2024-10-10T11:47:11.727496+0000, [97], 7, 48, en, {96, 62, 80, 59}, Este é um tweet fictício sobre datascience}                                        |\n",
      "|{99, 41, 2024-10-10T21:58:31.119105+0000, [80], 94, 64, en, {88, 90, 45, 33}, Tweet fictício gerado automaticamente sobre datascience}                          |\n",
      "|{20, 27, 2024-10-10T06:48:00.774467+0000, [89], 65, 73, en, {74, 60, 88, 85}, Outro tweet fictício relacionado a datascience}                                   |\n",
      "|{57, 0, 2024-10-10T01:55:30.306559+0000, [61], 14, 72, en, {31, 45, 73, 54}, Um terceiro tweet fictício sobre datascience}                                      |\n",
      "|{20, 78, 2024-10-10T13:28:07.520984+0000, [4], 8, 57, en, {82, 92, 63, 54}, Este é um tweet fictício sobre datascience}                                         |\n",
      "|{1, 10, 2024-10-10T07:35:17.169468+0000, [50], 84, 53, en, {6, 41, 66, 64}, Tweet fictício gerado automaticamente sobre datascience}                            |\n",
      "|{54, 21, 2024-10-10T12:34:21.858027+0000, [54], 68, 31, en, {95, 63, 33, 54}, Tweet fictício criado usando inteligência artificial para falar sobre datascience}|\n",
      "|{37, 58, 2024-10-10T00:21:39.726375+0000, [5], 55, 7, en, {45, 2, 48, 40}, Tweet fictício gerado automaticamente sobre datascience}                             |\n",
      "|{32, 75, 2024-10-10T09:34:44.491521+0000, [11], 82, 99, en, {53, 10, 0, 13}, Este é um tweet fictício sobre datascience}                                        |\n",
      "+----------------------------------------------------------------------------------------------------------------------------------------------------------------+\n",
      "only showing top 20 rows\n",
      "\n"
     ]
    }
   ],
   "source": [
    "df.select(f.explode('data')).show(truncate=False)"
   ]
  },
  {
   "cell_type": "code",
   "execution_count": 12,
   "metadata": {},
   "outputs": [
    {
     "name": "stdout",
     "output_type": "stream",
     "text": [
      "root\n",
      " |-- author_id: string (nullable = true)\n",
      " |-- conversation_id: string (nullable = true)\n",
      " |-- created_at: string (nullable = true)\n",
      " |-- id: string (nullable = true)\n",
      " |-- like_count: long (nullable = true)\n",
      " |-- quote_count: long (nullable = true)\n",
      " |-- reply_count: long (nullable = true)\n",
      " |-- retweet_count: long (nullable = true)\n",
      " |-- text: string (nullable = true)\n",
      "\n"
     ]
    }
   ],
   "source": [
    "df.select(f.explode(\"data\").alias(\"tweets\"))\\\n",
    "    .select(\"tweets.author_id\", \"tweets.conversation_id\",\\\n",
    "             \"tweets.created_at\", \"tweets.id\",\\\n",
    "             \"tweets.public_metrics.*\", \"tweets.text\")\\\n",
    "    .printSchema()"
   ]
  },
  {
   "cell_type": "code",
   "execution_count": 13,
   "metadata": {},
   "outputs": [],
   "source": [
    "df_tweetts = df.select(f.explode(\"data\").alias(\"tweets\"))\\\n",
    "    .select(\"tweets.author_id\", \"tweets.conversation_id\",\\\n",
    "             \"tweets.created_at\", \"tweets.id\",\\\n",
    "             \"tweets.public_metrics.*\", \"tweets.text\")\n"
   ]
  },
  {
   "cell_type": "code",
   "execution_count": 14,
   "metadata": {},
   "outputs": [
    {
     "name": "stdout",
     "output_type": "stream",
     "text": [
      "+---------+---------------+-------------------------------+---+----------+-----------+-----------+-------------+---------------------------------------------------------------------------------+\n",
      "|author_id|conversation_id|created_at                     |id |like_count|quote_count|reply_count|retweet_count|text                                                                             |\n",
      "+---------+---------------+-------------------------------+---+----------+-----------+-----------+-------------+---------------------------------------------------------------------------------+\n",
      "|78       |43             |2024-10-10T15:46:38.284539+0000|74 |22        |40         |44         |53           |Outro tweet fictício relacionado a datascience                                   |\n",
      "|57       |37             |2024-10-10T12:27:29.276520+0000|80 |82        |78         |49         |69           |Tweet fictício criado usando inteligência artificial para falar sobre datascience|\n",
      "|67       |72             |2024-10-10T04:14:29.654440+0000|76 |82        |42         |57         |71           |Um terceiro tweet fictício sobre datascience                                     |\n",
      "|89       |98             |2024-10-10T12:16:58.124681+0000|5  |71        |65         |20         |94           |Este é um tweet fictício sobre datascience                                       |\n",
      "|93       |27             |2024-10-10T10:27:43.573741+0000|32 |18        |63         |10         |95           |Este é um tweet fictício sobre datascience                                       |\n",
      "|47       |67             |2024-10-10T00:39:54.171540+0000|1  |12        |65         |12         |78           |Tweet fictício criado usando inteligência artificial para falar sobre datascience|\n",
      "|60       |77             |2024-10-10T10:19:14.132472+0000|17 |84        |55         |35         |55           |Outro tweet fictício relacionado a datascience                                   |\n",
      "|37       |90             |2024-10-10T23:26:40.048215+0000|58 |27        |31         |47         |1            |Tweet fictício gerado automaticamente sobre datascience                          |\n",
      "|34       |39             |2024-10-10T04:16:52.927359+0000|3  |11        |87         |66         |61           |Tweet fictício criado usando inteligência artificial para falar sobre datascience|\n",
      "|19       |26             |2024-10-10T19:15:47.181860+0000|98 |19        |62         |4          |77           |Um terceiro tweet fictício sobre datascience                                     |\n",
      "|92       |44             |2024-10-10T21:19:32.972273+0000|93 |35        |46         |81         |55           |Um terceiro tweet fictício sobre datascience                                     |\n",
      "|44       |60             |2024-10-10T11:47:11.727496+0000|7  |96        |62         |80         |59           |Este é um tweet fictício sobre datascience                                       |\n",
      "|99       |41             |2024-10-10T21:58:31.119105+0000|94 |88        |90         |45         |33           |Tweet fictício gerado automaticamente sobre datascience                          |\n",
      "|20       |27             |2024-10-10T06:48:00.774467+0000|65 |74        |60         |88         |85           |Outro tweet fictício relacionado a datascience                                   |\n",
      "|57       |0              |2024-10-10T01:55:30.306559+0000|14 |31        |45         |73         |54           |Um terceiro tweet fictício sobre datascience                                     |\n",
      "|20       |78             |2024-10-10T13:28:07.520984+0000|8  |82        |92         |63         |54           |Este é um tweet fictício sobre datascience                                       |\n",
      "|1        |10             |2024-10-10T07:35:17.169468+0000|84 |6         |41         |66         |64           |Tweet fictício gerado automaticamente sobre datascience                          |\n",
      "|54       |21             |2024-10-10T12:34:21.858027+0000|68 |95        |63         |33         |54           |Tweet fictício criado usando inteligência artificial para falar sobre datascience|\n",
      "|37       |58             |2024-10-10T00:21:39.726375+0000|55 |45        |2          |48         |40           |Tweet fictício gerado automaticamente sobre datascience                          |\n",
      "|32       |75             |2024-10-10T09:34:44.491521+0000|82 |53        |10         |0          |13           |Este é um tweet fictício sobre datascience                                       |\n",
      "+---------+---------------+-------------------------------+---+----------+-----------+-----------+-------------+---------------------------------------------------------------------------------+\n",
      "only showing top 20 rows\n",
      "\n"
     ]
    }
   ],
   "source": [
    "df_tweetts.show(truncate=False)"
   ]
  },
  {
   "cell_type": "code",
   "execution_count": 15,
   "metadata": {},
   "outputs": [
    {
     "data": {
      "text/plain": [
       "DataFrame[col: struct<created_at:string,id:string,name:string,username:string>]"
      ]
     },
     "execution_count": 15,
     "metadata": {},
     "output_type": "execute_result"
    }
   ],
   "source": [
    "df.select(f.explode(\"includes.users\"))"
   ]
  },
  {
   "cell_type": "code",
   "execution_count": 16,
   "metadata": {},
   "outputs": [
    {
     "data": {
      "text/plain": [
       "DataFrame[users: struct<created_at:string,id:string,name:string,username:string>]"
      ]
     },
     "execution_count": 16,
     "metadata": {},
     "output_type": "execute_result"
    }
   ],
   "source": [
    "df.select(f.explode(\"includes.users\").alias(\"users\"))"
   ]
  },
  {
   "cell_type": "code",
   "execution_count": 17,
   "metadata": {},
   "outputs": [
    {
     "name": "stdout",
     "output_type": "stream",
     "text": [
      "root\n",
      " |-- created_at: string (nullable = true)\n",
      " |-- id: string (nullable = true)\n",
      " |-- name: string (nullable = true)\n",
      " |-- username: string (nullable = true)\n",
      "\n"
     ]
    }
   ],
   "source": [
    "df.select(f.explode(\"includes.users\").alias(\"users\")).select(\"users.*\").printSchema()"
   ]
  },
  {
   "cell_type": "code",
   "execution_count": 18,
   "metadata": {},
   "outputs": [],
   "source": [
    "user_df = df.select(f.explode(\"includes.users\").alias(\"users\")).select(\"users.*\")"
   ]
  },
  {
   "cell_type": "code",
   "execution_count": 19,
   "metadata": {},
   "outputs": [
    {
     "name": "stdout",
     "output_type": "stream",
     "text": [
      "+-------------------------------+---+-------+--------+\n",
      "|created_at                     |id |name   |username|\n",
      "+-------------------------------+---+-------+--------+\n",
      "|2024-10-10T13:57:53.454099+0000|48 |User 1 |user1   |\n",
      "|2024-10-10T02:35:30.581705+0000|48 |User 2 |user2   |\n",
      "|2024-10-10T10:50:25.168466+0000|7  |User 3 |user3   |\n",
      "|2024-10-10T21:04:12.049167+0000|21 |User 4 |user4   |\n",
      "|2024-10-10T22:38:33.465490+0000|34 |User 5 |user5   |\n",
      "|2024-10-10T02:19:48.335844+0000|16 |User 6 |user6   |\n",
      "|2024-10-10T22:27:29.109963+0000|43 |User 7 |user7   |\n",
      "|2024-10-10T19:40:47.255878+0000|33 |User 8 |user8   |\n",
      "|2024-10-10T14:29:21.779256+0000|61 |User 9 |user9   |\n",
      "|2024-10-10T15:34:39.519399+0000|26 |User 10|user10  |\n",
      "|2024-10-10T17:30:06.239821+0000|59 |User 1 |user1   |\n",
      "|2024-10-10T01:50:26.437753+0000|87 |User 2 |user2   |\n",
      "|2024-10-10T02:35:03.638452+0000|33 |User 3 |user3   |\n",
      "|2024-10-10T08:41:38.564309+0000|17 |User 4 |user4   |\n",
      "|2024-10-10T09:29:37.135000+0000|42 |User 5 |user5   |\n",
      "|2024-10-10T12:32:28.920562+0000|75 |User 6 |user6   |\n",
      "|2024-10-10T15:14:45.063969+0000|32 |User 7 |user7   |\n",
      "|2024-10-10T02:15:46.667979+0000|63 |User 8 |user8   |\n",
      "|2024-10-10T08:27:29.234379+0000|56 |User 9 |user9   |\n",
      "|2024-10-10T01:45:22.576194+0000|38 |User 10|user10  |\n",
      "+-------------------------------+---+-------+--------+\n",
      "only showing top 20 rows\n",
      "\n"
     ]
    },
    {
     "name": "stderr",
     "output_type": "stream",
     "text": [
      "                                                                                \r"
     ]
    }
   ],
   "source": [
    "user_df.show(truncate=False)"
   ]
  },
  {
   "cell_type": "code",
   "execution_count": 20,
   "metadata": {},
   "outputs": [
    {
     "name": "stderr",
     "output_type": "stream",
     "text": [
      "                                                                                \r"
     ]
    }
   ],
   "source": [
    "df_tweetts.coalesce(1).write.mode(\"overwrite\").json('output/tweet')"
   ]
  },
  {
   "cell_type": "code",
   "execution_count": null,
   "metadata": {},
   "outputs": [],
   "source": [
    "user_df.coalesce(1).write.mode(\"overwrite\").json('output/user')"
   ]
  }
 ],
 "metadata": {
  "kernelspec": {
   "display_name": "airflow",
   "language": "python",
   "name": "python3"
  },
  "language_info": {
   "codemirror_mode": {
    "name": "ipython",
    "version": 3
   },
   "file_extension": ".py",
   "mimetype": "text/x-python",
   "name": "python",
   "nbconvert_exporter": "python",
   "pygments_lexer": "ipython3",
   "version": "3.8.10"
  },
  "orig_nbformat": 4
 },
 "nbformat": 4,
 "nbformat_minor": 2
}
